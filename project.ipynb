{
 "cells": [
  {
   "cell_type": "code",
   "execution_count": 1,
   "metadata": {},
   "outputs": [],
   "source": [
    "from fastai.structured import *\n",
    "from fastai.column_data import *\n",
    "import pandas as pd\n",
    "import numpy as np\n",
    "from sklearn.model_selection import train_test_split\n",
    "from sklearn.metrics import mean_squared_error\n",
    "from math import sqrt\n",
    "import pickle"
   ]
  },
  {
   "cell_type": "code",
   "execution_count": 2,
   "metadata": {},
   "outputs": [],
   "source": [
    "# lets load the data\n",
    "df = pd.read_csv('course_ratings.csv')"
   ]
  },
  {
   "cell_type": "code",
   "execution_count": 3,
   "metadata": {},
   "outputs": [],
   "source": [
    "#lets remove high rating rows\n",
    "joined = df.drop(df[df['rating'] > 5].index)"
   ]
  },
  {
   "cell_type": "code",
   "execution_count": 4,
   "metadata": {},
   "outputs": [],
   "source": [
    "# lets define catigorical vars\n",
    "cat_vars = ['user','course','category','job','institution','state']\n",
    "#coninuous vars\n",
    "cont_vars = ['rating']\n",
    "\n",
    "# df length\n",
    "n = len(df)\n",
    "\n",
    "# test percentage\n",
    "testp = n*.2\n",
    "\n",
    "#lets update features, categoricial should be category and continuous should be float32\n",
    "for v in cat_vars: \n",
    "    joined[v] = joined[v].astype('category').cat.as_ordered()\n",
    "    \n",
    "for v in cont_vars:\n",
    "    joined[v] = joined[v].fillna(0).astype('float32')"
   ]
  },
  {
   "cell_type": "code",
   "execution_count": 5,
   "metadata": {},
   "outputs": [],
   "source": [
    "# we have to convert all category variables into contiguous ones and save the look up table\n",
    "lookup_table = {}\n",
    "for c in cat_vars:\n",
    "    uq = joined[c].unique()\n",
    "    col2idx =  {o:i for i,o in enumerate(sorted(uq))}\n",
    "    lookup_table[c] = col2idx\n",
    "    joined[c] = joined[c].apply(lambda x: col2idx[x])"
   ]
  },
  {
   "cell_type": "code",
   "execution_count": 6,
   "metadata": {},
   "outputs": [],
   "source": [
    "#lets save the mapper for later use\n",
    "with open('models/data/lookup_table', 'wb') as fp:\n",
    "    pickle.dump(lookup_table, fp)"
   ]
  },
  {
   "cell_type": "code",
   "execution_count": 7,
   "metadata": {},
   "outputs": [],
   "source": [
    "#lets check lookup table\n",
    "with open ('models/data/lookup_table', 'rb') as fp:\n",
    "    lut_load = pickle.load(fp)\n",
    "\n",
    "#lut_load"
   ]
  },
  {
   "cell_type": "code",
   "execution_count": 8,
   "metadata": {},
   "outputs": [],
   "source": [
    "# create a test/train set split\n",
    "joined, joined_test = train_test_split(joined, test_size=0.25)\n",
    "df = joined.drop('rating', axis=1)\n",
    "y = joined['rating']\n",
    "df_test = joined_test.drop('rating', axis=1)\n",
    "\n",
    "# create a validation set of ids\n",
    "train_ratio = 0.75\n",
    "train_size = int(len(df) * train_ratio)\n",
    "val_idx = list(range(train_size, len(df)))\n",
    "\n",
    "with open('models/data/val_idx', 'wb') as fp:\n",
    "    pickle.dump(val_idx, fp)\n",
    "    \n",
    "with open('models/data/ratings', 'wb') as fp:\n",
    "    pickle.dump(y, fp)"
   ]
  },
  {
   "cell_type": "code",
   "execution_count": 9,
   "metadata": {},
   "outputs": [],
   "source": [
    "#final df , everything is numeric and continguous\n",
    "with open('models/data/final_df', 'wb') as fp:\n",
    "    pickle.dump(df, fp)"
   ]
  },
  {
   "cell_type": "code",
   "execution_count": 10,
   "metadata": {},
   "outputs": [
    {
     "data": {
      "text/html": [
       "<div>\n",
       "<style scoped>\n",
       "    .dataframe tbody tr th:only-of-type {\n",
       "        vertical-align: middle;\n",
       "    }\n",
       "\n",
       "    .dataframe tbody tr th {\n",
       "        vertical-align: top;\n",
       "    }\n",
       "\n",
       "    .dataframe thead th {\n",
       "        text-align: right;\n",
       "    }\n",
       "</style>\n",
       "<table border=\"1\" class=\"dataframe\">\n",
       "  <thead>\n",
       "    <tr style=\"text-align: right;\">\n",
       "      <th></th>\n",
       "      <th>user</th>\n",
       "      <th>course</th>\n",
       "      <th>category</th>\n",
       "      <th>job</th>\n",
       "      <th>institution</th>\n",
       "      <th>state</th>\n",
       "    </tr>\n",
       "  </thead>\n",
       "  <tbody>\n",
       "    <tr>\n",
       "      <th>17798</th>\n",
       "      <td>17218</td>\n",
       "      <td>133</td>\n",
       "      <td>3</td>\n",
       "      <td>42</td>\n",
       "      <td>11</td>\n",
       "      <td>30</td>\n",
       "    </tr>\n",
       "    <tr>\n",
       "      <th>59294</th>\n",
       "      <td>49177</td>\n",
       "      <td>54</td>\n",
       "      <td>7</td>\n",
       "      <td>6</td>\n",
       "      <td>9</td>\n",
       "      <td>58</td>\n",
       "    </tr>\n",
       "    <tr>\n",
       "      <th>34205</th>\n",
       "      <td>1793</td>\n",
       "      <td>39</td>\n",
       "      <td>7</td>\n",
       "      <td>6</td>\n",
       "      <td>0</td>\n",
       "      <td>30</td>\n",
       "    </tr>\n",
       "    <tr>\n",
       "      <th>173990</th>\n",
       "      <td>3642</td>\n",
       "      <td>84</td>\n",
       "      <td>7</td>\n",
       "      <td>6</td>\n",
       "      <td>0</td>\n",
       "      <td>24</td>\n",
       "    </tr>\n",
       "    <tr>\n",
       "      <th>114094</th>\n",
       "      <td>25772</td>\n",
       "      <td>4</td>\n",
       "      <td>7</td>\n",
       "      <td>6</td>\n",
       "      <td>0</td>\n",
       "      <td>24</td>\n",
       "    </tr>\n",
       "    <tr>\n",
       "      <th>72284</th>\n",
       "      <td>12900</td>\n",
       "      <td>3</td>\n",
       "      <td>1</td>\n",
       "      <td>6</td>\n",
       "      <td>0</td>\n",
       "      <td>35</td>\n",
       "    </tr>\n",
       "    <tr>\n",
       "      <th>58299</th>\n",
       "      <td>21790</td>\n",
       "      <td>145</td>\n",
       "      <td>8</td>\n",
       "      <td>6</td>\n",
       "      <td>11</td>\n",
       "      <td>25</td>\n",
       "    </tr>\n",
       "    <tr>\n",
       "      <th>52046</th>\n",
       "      <td>14637</td>\n",
       "      <td>146</td>\n",
       "      <td>5</td>\n",
       "      <td>29</td>\n",
       "      <td>0</td>\n",
       "      <td>52</td>\n",
       "    </tr>\n",
       "    <tr>\n",
       "      <th>49107</th>\n",
       "      <td>26236</td>\n",
       "      <td>126</td>\n",
       "      <td>7</td>\n",
       "      <td>44</td>\n",
       "      <td>9</td>\n",
       "      <td>57</td>\n",
       "    </tr>\n",
       "    <tr>\n",
       "      <th>34002</th>\n",
       "      <td>35054</td>\n",
       "      <td>4</td>\n",
       "      <td>7</td>\n",
       "      <td>6</td>\n",
       "      <td>0</td>\n",
       "      <td>30</td>\n",
       "    </tr>\n",
       "  </tbody>\n",
       "</table>\n",
       "</div>"
      ],
      "text/plain": [
       "         user course category job institution state\n",
       "17798   17218    133        3  42          11    30\n",
       "59294   49177     54        7   6           9    58\n",
       "34205    1793     39        7   6           0    30\n",
       "173990   3642     84        7   6           0    24\n",
       "114094  25772      4        7   6           0    24\n",
       "72284   12900      3        1   6           0    35\n",
       "58299   21790    145        8   6          11    25\n",
       "52046   14637    146        5  29           0    52\n",
       "49107   26236    126        7  44           9    57\n",
       "34002   35054      4        7   6           0    30"
      ]
     },
     "execution_count": 10,
     "metadata": {},
     "output_type": "execute_result"
    }
   ],
   "source": [
    "df.head(10)"
   ]
  },
  {
   "cell_type": "code",
   "execution_count": null,
   "metadata": {},
   "outputs": [],
   "source": []
  },
  {
   "cell_type": "code",
   "execution_count": 11,
   "metadata": {},
   "outputs": [],
   "source": [
    "#lets build the initial model\n",
    "md = ColumnarModelData.from_data_frame(\"models/\", val_idx, df, y.astype(np.float32), cat_flds=cat_vars, bs=128, test_df=df_test)"
   ]
  },
  {
   "cell_type": "code",
   "execution_count": 12,
   "metadata": {},
   "outputs": [],
   "source": [
    "#build embedding matrix, matrices should be 1 bigger then the the number of categorical options to leave room for unknown\n",
    "cat_sz = [(c, len(joined[c].cat.categories)+1) for c in cat_vars]\n",
    "emb_szs = [(c, min(50, (c+1)//2)) for _,c in cat_sz]\n",
    "with open('models/data/emb_sizes', 'wb') as fp:\n",
    "    pickle.dump(emb_szs, fp)"
   ]
  },
  {
   "cell_type": "code",
   "execution_count": 13,
   "metadata": {},
   "outputs": [],
   "source": [
    "#build the learner, \n",
    "# .04 dropout on the embedding matrix\n",
    "# 1000 and 500 nodes on 2 different layers\n",
    "# .001 and .01 dropouts\n",
    "# specifying the range of y (rating) to be 0-5\n",
    "m = md.get_learner(emb_szs,0 ,0.5, 1, [100,50], [0.5,0.01],y_range=(0,5))"
   ]
  },
  {
   "cell_type": "code",
   "execution_count": 14,
   "metadata": {},
   "outputs": [
    {
     "data": {
      "text/plain": [
       "OrderedDict([('Embedding-1',\n",
       "              OrderedDict([('input_shape', [-1]),\n",
       "                           ('output_shape', [-1, 50]),\n",
       "                           ('trainable', True),\n",
       "                           ('nb_params', 2605900)])),\n",
       "             ('Embedding-2',\n",
       "              OrderedDict([('input_shape', [-1]),\n",
       "                           ('output_shape', [-1, 50]),\n",
       "                           ('trainable', True),\n",
       "                           ('nb_params', 11000)])),\n",
       "             ('Embedding-3',\n",
       "              OrderedDict([('input_shape', [-1]),\n",
       "                           ('output_shape', [-1, 8]),\n",
       "                           ('trainable', True),\n",
       "                           ('nb_params', 120)])),\n",
       "             ('Embedding-4',\n",
       "              OrderedDict([('input_shape', [-1]),\n",
       "                           ('output_shape', [-1, 23]),\n",
       "                           ('trainable', True),\n",
       "                           ('nb_params', 1058)])),\n",
       "             ('Embedding-5',\n",
       "              OrderedDict([('input_shape', [-1]),\n",
       "                           ('output_shape', [-1, 8]),\n",
       "                           ('trainable', True),\n",
       "                           ('nb_params', 128)])),\n",
       "             ('Embedding-6',\n",
       "              OrderedDict([('input_shape', [-1]),\n",
       "                           ('output_shape', [-1, 31]),\n",
       "                           ('trainable', True),\n",
       "                           ('nb_params', 1891)])),\n",
       "             ('Dropout-7',\n",
       "              OrderedDict([('input_shape', [-1, 170]),\n",
       "                           ('output_shape', [-1, 170]),\n",
       "                           ('nb_params', 0)])),\n",
       "             ('Linear-8',\n",
       "              OrderedDict([('input_shape', [-1, 170]),\n",
       "                           ('output_shape', [-1, 100]),\n",
       "                           ('trainable', True),\n",
       "                           ('nb_params', 17100)])),\n",
       "             ('Dropout-9',\n",
       "              OrderedDict([('input_shape', [-1, 100]),\n",
       "                           ('output_shape', [-1, 100]),\n",
       "                           ('nb_params', 0)])),\n",
       "             ('Linear-10',\n",
       "              OrderedDict([('input_shape', [-1, 100]),\n",
       "                           ('output_shape', [-1, 50]),\n",
       "                           ('trainable', True),\n",
       "                           ('nb_params', 5050)])),\n",
       "             ('Dropout-11',\n",
       "              OrderedDict([('input_shape', [-1, 50]),\n",
       "                           ('output_shape', [-1, 50]),\n",
       "                           ('nb_params', 0)])),\n",
       "             ('Linear-12',\n",
       "              OrderedDict([('input_shape', [-1, 50]),\n",
       "                           ('output_shape', [-1, 1]),\n",
       "                           ('trainable', True),\n",
       "                           ('nb_params', 51)]))])"
      ]
     },
     "execution_count": 14,
     "metadata": {},
     "output_type": "execute_result"
    }
   ],
   "source": [
    "m.summary()"
   ]
  },
  {
   "cell_type": "code",
   "execution_count": 15,
   "metadata": {},
   "outputs": [
    {
     "data": {
      "application/vnd.jupyter.widget-view+json": {
       "model_id": "28928481bfdc429c8578aad7b0538383",
       "version_major": 2,
       "version_minor": 0
      },
      "text/plain": [
       "HBox(children=(IntProgress(value=0, description='Epoch', max=1), HTML(value='')))"
      ]
     },
     "metadata": {},
     "output_type": "display_data"
    },
    {
     "name": "stdout",
     "output_type": "stream",
     "text": [
      "epoch      trn_loss   val_loss                                \n",
      "    0      1.287841   1.25821   \n",
      "\n"
     ]
    }
   ],
   "source": [
    "#lets find a learning rate\n",
    "m.lr_find()"
   ]
  },
  {
   "cell_type": "code",
   "execution_count": 16,
   "metadata": {},
   "outputs": [
    {
     "data": {
      "image/png": "[encoded data removed]",
      "text/plain": [
       "<Figure size 432x288 with 1 Axes>"
      ]
     },
     "metadata": {},
     "output_type": "display_data"
    }
   ],
   "source": [
    "m.sched.plot(100)"
   ]
  },
  {
   "cell_type": "code",
   "execution_count": 17,
   "metadata": {},
   "outputs": [],
   "source": [
    "lr = 1e-3"
   ]
  },
  {
   "cell_type": "code",
   "execution_count": null,
   "metadata": {},
   "outputs": [],
   "source": []
  },
  {
   "cell_type": "code",
   "execution_count": 18,
   "metadata": {},
   "outputs": [],
   "source": [
    "# Local\n",
    "#m.fit(lr, 2, cycle_len=2)"
   ]
  },
  {
   "cell_type": "code",
   "execution_count": 19,
   "metadata": {},
   "outputs": [
    {
     "data": {
      "application/vnd.jupyter.widget-view+json": {
       "model_id": "7bf271d0dae8489dbad2d4472d37c06f",
       "version_major": 2,
       "version_minor": 0
      },
      "text/plain": [
       "HBox(children=(IntProgress(value=0, description='Epoch', max=10), HTML(value='')))"
      ]
     },
     "metadata": {},
     "output_type": "display_data"
    },
    {
     "name": "stdout",
     "output_type": "stream",
     "text": [
      "epoch      trn_loss   val_loss                                \n",
      "    0      0.267159   0.235792  \n",
      "    1      0.190746   0.227946                                \n",
      "    2      0.203919   0.216884                                \n",
      "    3      0.152977   0.216242                                \n",
      "    4      0.176249   0.216451                                \n",
      "    5      0.135027   0.213607                                \n",
      "    6      0.163399   0.214819                                \n",
      "    7      0.128918   0.212993                                \n",
      "    8      0.173032   0.218286                                \n",
      "    9      0.133155   0.213572                                \n",
      "\n"
     ]
    },
    {
     "data": {
      "text/plain": [
       "[array([0.21357])]"
      ]
     },
     "execution_count": 19,
     "metadata": {},
     "output_type": "execute_result"
    }
   ],
   "source": [
    "# GPU\n",
    "# lets fit the model, 50 epochs with restarts\n",
    "m.fit(lr, 5, cycle_len=2, wds=1e-4)"
   ]
  },
  {
   "cell_type": "code",
   "execution_count": 20,
   "metadata": {},
   "outputs": [],
   "source": [
    "m.save('mdl')"
   ]
  },
  {
   "cell_type": "code",
   "execution_count": 21,
   "metadata": {},
   "outputs": [],
   "source": [
    "m.load('mdl')"
   ]
  },
  {
   "cell_type": "code",
   "execution_count": 22,
   "metadata": {},
   "outputs": [],
   "source": [
    "x,y=m.predict_with_targs()"
   ]
  },
  {
   "cell_type": "code",
   "execution_count": 23,
   "metadata": {},
   "outputs": [],
   "source": [
    "pred_test=m.predict(is_test=True)"
   ]
  },
  {
   "cell_type": "code",
   "execution_count": 24,
   "metadata": {},
   "outputs": [],
   "source": [
    "joined_test['rating_pred'] = pred_test"
   ]
  },
  {
   "cell_type": "code",
   "execution_count": 25,
   "metadata": {},
   "outputs": [
    {
     "data": {
      "text/html": [
       "<div>\n",
       "<style scoped>\n",
       "    .dataframe tbody tr th:only-of-type {\n",
       "        vertical-align: middle;\n",
       "    }\n",
       "\n",
       "    .dataframe tbody tr th {\n",
       "        vertical-align: top;\n",
       "    }\n",
       "\n",
       "    .dataframe thead th {\n",
       "        text-align: right;\n",
       "    }\n",
       "</style>\n",
       "<table border=\"1\" class=\"dataframe\">\n",
       "  <thead>\n",
       "    <tr style=\"text-align: right;\">\n",
       "      <th></th>\n",
       "      <th>rating</th>\n",
       "      <th>rating_pred</th>\n",
       "    </tr>\n",
       "  </thead>\n",
       "  <tbody>\n",
       "    <tr>\n",
       "      <th>111685</th>\n",
       "      <td>4.59</td>\n",
       "      <td>3.804317</td>\n",
       "    </tr>\n",
       "    <tr>\n",
       "      <th>132193</th>\n",
       "      <td>4.18</td>\n",
       "      <td>4.104474</td>\n",
       "    </tr>\n",
       "    <tr>\n",
       "      <th>18514</th>\n",
       "      <td>3.69</td>\n",
       "      <td>4.024045</td>\n",
       "    </tr>\n",
       "    <tr>\n",
       "      <th>53583</th>\n",
       "      <td>4.35</td>\n",
       "      <td>4.000181</td>\n",
       "    </tr>\n",
       "    <tr>\n",
       "      <th>33980</th>\n",
       "      <td>4.38</td>\n",
       "      <td>3.626581</td>\n",
       "    </tr>\n",
       "    <tr>\n",
       "      <th>156859</th>\n",
       "      <td>4.55</td>\n",
       "      <td>4.097500</td>\n",
       "    </tr>\n",
       "    <tr>\n",
       "      <th>121005</th>\n",
       "      <td>2.85</td>\n",
       "      <td>3.595472</td>\n",
       "    </tr>\n",
       "    <tr>\n",
       "      <th>110445</th>\n",
       "      <td>2.86</td>\n",
       "      <td>4.463190</td>\n",
       "    </tr>\n",
       "    <tr>\n",
       "      <th>142052</th>\n",
       "      <td>4.50</td>\n",
       "      <td>4.568205</td>\n",
       "    </tr>\n",
       "    <tr>\n",
       "      <th>170230</th>\n",
       "      <td>4.23</td>\n",
       "      <td>3.917554</td>\n",
       "    </tr>\n",
       "  </tbody>\n",
       "</table>\n",
       "</div>"
      ],
      "text/plain": [
       "        rating  rating_pred\n",
       "111685    4.59     3.804317\n",
       "132193    4.18     4.104474\n",
       "18514     3.69     4.024045\n",
       "53583     4.35     4.000181\n",
       "33980     4.38     3.626581\n",
       "156859    4.55     4.097500\n",
       "121005    2.85     3.595472\n",
       "110445    2.86     4.463190\n",
       "142052    4.50     4.568205\n",
       "170230    4.23     3.917554"
      ]
     },
     "execution_count": 25,
     "metadata": {},
     "output_type": "execute_result"
    }
   ],
   "source": [
    "joined_test[['rating','rating_pred']].head(10)"
   ]
  },
  {
   "cell_type": "code",
   "execution_count": 26,
   "metadata": {},
   "outputs": [],
   "source": [
    "rms = sqrt(mean_squared_error(joined_test['rating'], joined_test['rating_pred']))"
   ]
  },
  {
   "cell_type": "code",
   "execution_count": 27,
   "metadata": {},
   "outputs": [
    {
     "data": {
      "text/plain": [
       "0.4625460633974777"
      ]
     },
     "execution_count": 27,
     "metadata": {},
     "output_type": "execute_result"
    }
   ],
   "source": [
    "# we achieved a root mean squared error of .47\n",
    "rms"
   ]
  },
  {
   "cell_type": "code",
   "execution_count": 28,
   "metadata": {},
   "outputs": [],
   "source": [
    "test_record = df_test.iloc[0]"
   ]
  },
  {
   "cell_type": "code",
   "execution_count": 29,
   "metadata": {},
   "outputs": [
    {
     "data": {
      "text/plain": [
       "user             38790\n",
       "course              77\n",
       "category             3\n",
       "rating            4.59\n",
       "job                 42\n",
       "institution          9\n",
       "state               30\n",
       "rating_pred    3.80432\n",
       "Name: 111685, dtype: object"
      ]
     },
     "execution_count": 29,
     "metadata": {},
     "output_type": "execute_result"
    }
   ],
   "source": [
    "joined_test.iloc[0]"
   ]
  },
  {
   "cell_type": "code",
   "execution_count": 30,
   "metadata": {},
   "outputs": [],
   "source": [
    "cat = test_record[cat_vars].values.astype(np.int64)[None]\n",
    "contin = test_record.drop(cat_vars).values.astype(np.float32)[None]\n",
    "\n",
    "#Prediction\n",
    "model = m.model\n",
    "model.eval()\n",
    "prediction = to_np(model(V(cat),[]))"
   ]
  },
  {
   "cell_type": "code",
   "execution_count": 31,
   "metadata": {},
   "outputs": [
    {
     "data": {
      "text/plain": [
       "3.8043165"
      ]
     },
     "execution_count": 31,
     "metadata": {},
     "output_type": "execute_result"
    }
   ],
   "source": [
    "prediction[0][0]"
   ]
  },
  {
   "cell_type": "code",
   "execution_count": 33,
   "metadata": {},
   "outputs": [],
   "source": [
    "#model is ready, need to create simple api and also test with new data since the original was pulled"
   ]
  },
  {
   "cell_type": "code",
   "execution_count": null,
   "metadata": {},
   "outputs": [],
   "source": []
  },
  {
   "cell_type": "code",
   "execution_count": null,
   "metadata": {},
   "outputs": [],
   "source": []
  },
  {
   "cell_type": "code",
   "execution_count": null,
   "metadata": {},
   "outputs": [],
   "source": []
  },
  {
   "cell_type": "code",
   "execution_count": null,
   "metadata": {},
   "outputs": [],
   "source": []
  },
  {
   "cell_type": "code",
   "execution_count": null,
   "metadata": {},
   "outputs": [],
   "source": []
  },
  {
   "cell_type": "code",
   "execution_count": null,
   "metadata": {},
   "outputs": [],
   "source": []
  },
  {
   "cell_type": "code",
   "execution_count": null,
   "metadata": {},
   "outputs": [],
   "source": []
  },
  {
   "cell_type": "code",
   "execution_count": null,
   "metadata": {},
   "outputs": [],
   "source": []
  },
  {
   "cell_type": "code",
   "execution_count": null,
   "metadata": {},
   "outputs": [],
   "source": []
  },
  {
   "cell_type": "code",
   "execution_count": null,
   "metadata": {},
   "outputs": [],
   "source": []
  },
  {
   "cell_type": "code",
   "execution_count": null,
   "metadata": {},
   "outputs": [],
   "source": []
  },
  {
   "cell_type": "code",
   "execution_count": null,
   "metadata": {},
   "outputs": [],
   "source": []
  }
 ],
 "metadata": {
  "kernelspec": {
   "display_name": "Python 3",
   "language": "python",
   "name": "python3"
  },
  "language_info": {
   "codemirror_mode": {
    "name": "ipython",
    "version": 3
   },
   "file_extension": ".py",
   "mimetype": "text/x-python",
   "name": "python",
   "nbconvert_exporter": "python",
   "pygments_lexer": "ipython3",
   "version": "3.6.5"
  }
 },
 "nbformat": 4,
 "nbformat_minor": 2
}
