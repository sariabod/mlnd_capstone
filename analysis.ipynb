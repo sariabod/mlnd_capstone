{
 "cells": [
  {
   "cell_type": "code",
   "execution_count": 32,
   "metadata": {},
   "outputs": [],
   "source": [
    "%matplotlib inline\n",
    "import numpy as np\n",
    "import pandas as pd\n",
    "import matplotlib.pyplot as plt"
   ]
  },
  {
   "cell_type": "code",
   "execution_count": 24,
   "metadata": {},
   "outputs": [],
   "source": [
    "# lets load up the data, keep in mind the the unzipped version is not in the repo\n",
    "df = pd.read_csv('course_ratings.csv')"
   ]
  },
  {
   "cell_type": "code",
   "execution_count": 4,
   "metadata": {},
   "outputs": [
    {
     "name": "stdout",
     "output_type": "stream",
     "text": [
      "<class 'pandas.core.frame.DataFrame'>\n",
      "RangeIndex: 175347 entries, 0 to 175346\n",
      "Data columns (total 7 columns):\n",
      "user           175347 non-null object\n",
      "course         175347 non-null object\n",
      "category       175347 non-null object\n",
      "rating         175347 non-null float64\n",
      "job            175347 non-null object\n",
      "institution    175347 non-null object\n",
      "state          175347 non-null object\n",
      "dtypes: float64(1), object(6)\n",
      "memory usage: 9.4+ MB\n",
      "None\n"
     ]
    }
   ],
   "source": [
    "# lets a look and see what we are working with\n",
    "\n",
    "print(df.info())"
   ]
  },
  {
   "cell_type": "code",
   "execution_count": 5,
   "metadata": {},
   "outputs": [
    {
     "name": "stdout",
     "output_type": "stream",
     "text": [
      "                                                user  \\\n",
      "0  f18c20ed7945edb779041249a71b3a54a29442c56ca2cd...   \n",
      "1  f18c20ed7945edb779041249a71b3a54a29442c56ca2cd...   \n",
      "2  f18c20ed7945edb779041249a71b3a54a29442c56ca2cd...   \n",
      "3  f18c20ed7945edb779041249a71b3a54a29442c56ca2cd...   \n",
      "4  84135d7d6e875312557ad408b827db1476511d7d1e1895...   \n",
      "\n",
      "                                              course  \\\n",
      "0  bd493d60ac1cfa834fd7c0b46f56e5851a53b55565d5f5...   \n",
      "1  17c186cde47f63e9644ec5b8bc807770d7fe5d27e629fa...   \n",
      "2  3157346cfe43be353b8e12b5bdcd82b4479527c595bca3...   \n",
      "3  3bb8a1bf440c92da0839fdc550c2f2b1729ef626f5d077...   \n",
      "4  f18c20ed7945edb779041249a71b3a54a29442c56ca2cd...   \n",
      "\n",
      "                                            category  rating  \\\n",
      "0  884327c7b57992580657deec4be99eb94b9db6e9a8a959...    4.68   \n",
      "1  373687fd32764d49c3d7dcef01176ffa98d72d0e795e24...    4.59   \n",
      "2  884327c7b57992580657deec4be99eb94b9db6e9a8a959...    4.73   \n",
      "3  884327c7b57992580657deec4be99eb94b9db6e9a8a959...    4.64   \n",
      "4  2904c8dc286c6913a1d6040ac2659559f72725e5bbaa5b...    3.96   \n",
      "\n",
      "                                                 job  \\\n",
      "0  195a1d28540a6b0a055c52af095e364f22ee0e6d81ac48...   \n",
      "1  195a1d28540a6b0a055c52af095e364f22ee0e6d81ac48...   \n",
      "2  195a1d28540a6b0a055c52af095e364f22ee0e6d81ac48...   \n",
      "3  195a1d28540a6b0a055c52af095e364f22ee0e6d81ac48...   \n",
      "4  195a1d28540a6b0a055c52af095e364f22ee0e6d81ac48...   \n",
      "\n",
      "                                         institution  \\\n",
      "0  3c371752bc0e561f8daa5f1b2af08093dc33039c9f1146...   \n",
      "1  3c371752bc0e561f8daa5f1b2af08093dc33039c9f1146...   \n",
      "2  3c371752bc0e561f8daa5f1b2af08093dc33039c9f1146...   \n",
      "3  3c371752bc0e561f8daa5f1b2af08093dc33039c9f1146...   \n",
      "4  3c371752bc0e561f8daa5f1b2af08093dc33039c9f1146...   \n",
      "\n",
      "                                               state  \n",
      "0  76933d647fd0c27575dd9ec2691befc07300515ca8ab91...  \n",
      "1  76933d647fd0c27575dd9ec2691befc07300515ca8ab91...  \n",
      "2  76933d647fd0c27575dd9ec2691befc07300515ca8ab91...  \n",
      "3  76933d647fd0c27575dd9ec2691befc07300515ca8ab91...  \n",
      "4  dfaadfa10ff8c210247f519dd58cb92d0c563bb85fcc60...  \n"
     ]
    }
   ],
   "source": [
    "print(df.head())"
   ]
  },
  {
   "cell_type": "code",
   "execution_count": 6,
   "metadata": {},
   "outputs": [
    {
     "data": {
      "text/plain": [
       "(array([7.78000e+02, 1.28440e+04, 1.01158e+05, 6.05640e+04, 0.00000e+00,\n",
       "        1.00000e+00, 1.00000e+00, 0.00000e+00, 0.00000e+00, 1.00000e+00]),\n",
       " array([ 0.91 ,  2.064,  3.218,  4.372,  5.526,  6.68 ,  7.834,  8.988,\n",
       "        10.142, 11.296, 12.45 ]),\n",
       " <a list of 10 Patch objects>)"
      ]
     },
     "execution_count": 6,
     "metadata": {},
     "output_type": "execute_result"
    },
    {
     "data": {
      "image/png": "[encoded data removed]",
      "text/plain": [
       "<Figure size 432x288 with 1 Axes>"
      ]
     },
     "metadata": {},
     "output_type": "display_data"
    }
   ],
   "source": [
    "plt.hist(df['rating'])"
   ]
  },
  {
   "cell_type": "code",
   "execution_count": 7,
   "metadata": {},
   "outputs": [
    {
     "name": "stdout",
     "output_type": "stream",
     "text": [
      "Index(['user', 'course', 'category', 'rating', 'job', 'institution', 'state'], dtype='object')\n"
     ]
    }
   ],
   "source": [
    "print(df.columns)"
   ]
  },
  {
   "cell_type": "code",
   "execution_count": 25,
   "metadata": {},
   "outputs": [],
   "source": [
    "features = ['user','course','category','job','institution','state']\n",
    "onehot= ['category','job','institution','state']\n",
    "\n",
    "# lets create contiguous features\n",
    "\n",
    "for f in features:\n",
    "    uniq = df[f].unique()\n",
    "    feature2idx = {o:i for i,o in enumerate(uniq)}\n",
    "    df[f] = df[f].apply(lambda x: feature2idx[x])\n",
    "\n",
    "# one hot encode\n",
    "for oh in onehot:\n",
    "    df[oh] = pd.Categorical(df[oh])\n",
    "    dfDummies = pd.get_dummies(df[oh], prefix = oh)\n",
    "    df = pd.concat([df, dfDummies], axis=1)\n",
    "    df = df.drop([oh],axis=1)"
   ]
  },
  {
   "cell_type": "code",
   "execution_count": 28,
   "metadata": {},
   "outputs": [
    {
     "name": "stdout",
     "output_type": "stream",
     "text": [
      "Index(['user', 'course', 'rating', 'category_0', 'category_1', 'category_2',\n",
      "       'category_3', 'category_4', 'category_5', 'category_6',\n",
      "       ...\n",
      "       'state_50', 'state_51', 'state_52', 'state_53', 'state_54', 'state_55',\n",
      "       'state_56', 'state_57', 'state_58', 'state_59'],\n",
      "      dtype='object', length=137)\n"
     ]
    }
   ],
   "source": [
    "print(df.columns)\n",
    "#df.to_csv('final.csv',index=False)"
   ]
  },
  {
   "cell_type": "code",
   "execution_count": 31,
   "metadata": {},
   "outputs": [
    {
     "name": "stdout",
     "output_type": "stream",
     "text": [
      "                user         course         rating     category_0  \\\n",
      "count  175347.000000  175347.000000  175347.000000  175347.000000   \n",
      "mean    22915.186562      53.892214       4.030533       0.586317   \n",
      "std     15430.277956      42.283370       0.571618       0.492494   \n",
      "min         0.000000       0.000000       0.910000       0.000000   \n",
      "25%      8823.000000      24.000000       3.690000       0.000000   \n",
      "50%     21662.000000      41.000000       4.000000       1.000000   \n",
      "75%     36467.500000      79.000000       4.590000       1.000000   \n",
      "max     52117.000000     218.000000      12.450000       1.000000   \n",
      "\n",
      "          category_1     category_2     category_3     category_4  \\\n",
      "count  175347.000000  175347.000000  175347.000000  175347.000000   \n",
      "mean        0.006650       0.000023       0.099956       0.004984   \n",
      "std         0.081274       0.004776       0.299942       0.070424   \n",
      "min         0.000000       0.000000       0.000000       0.000000   \n",
      "25%         0.000000       0.000000       0.000000       0.000000   \n",
      "50%         0.000000       0.000000       0.000000       0.000000   \n",
      "75%         0.000000       0.000000       0.000000       0.000000   \n",
      "max         1.000000       1.000000       1.000000       1.000000   \n",
      "\n",
      "          category_5     category_6      ...             state_50  \\\n",
      "count  175347.000000  175347.000000      ...        175347.000000   \n",
      "mean        0.008982       0.064666      ...             0.000011   \n",
      "std         0.094348       0.245936      ...             0.003377   \n",
      "min         0.000000       0.000000      ...             0.000000   \n",
      "25%         0.000000       0.000000      ...             0.000000   \n",
      "50%         0.000000       0.000000      ...             0.000000   \n",
      "75%         0.000000       0.000000      ...             0.000000   \n",
      "max         1.000000       1.000000      ...             1.000000   \n",
      "\n",
      "            state_51       state_52       state_53       state_54  \\\n",
      "count  175347.000000  175347.000000  175347.000000  175347.000000   \n",
      "mean        0.000177       0.000006       0.000188       0.000011   \n",
      "std         0.013295       0.002388       0.013717       0.003377   \n",
      "min         0.000000       0.000000       0.000000       0.000000   \n",
      "25%         0.000000       0.000000       0.000000       0.000000   \n",
      "50%         0.000000       0.000000       0.000000       0.000000   \n",
      "75%         0.000000       0.000000       0.000000       0.000000   \n",
      "max         1.000000       1.000000       1.000000       1.000000   \n",
      "\n",
      "            state_55       state_56       state_57       state_58  \\\n",
      "count  175347.000000  175347.000000  175347.000000  175347.000000   \n",
      "mean        0.000006       0.000006       0.000023       0.000194   \n",
      "std         0.002388       0.002388       0.004776       0.013924   \n",
      "min         0.000000       0.000000       0.000000       0.000000   \n",
      "25%         0.000000       0.000000       0.000000       0.000000   \n",
      "50%         0.000000       0.000000       0.000000       0.000000   \n",
      "75%         0.000000       0.000000       0.000000       0.000000   \n",
      "max         1.000000       1.000000       1.000000       1.000000   \n",
      "\n",
      "            state_59  \n",
      "count  175347.000000  \n",
      "mean        0.000017  \n",
      "std         0.004136  \n",
      "min         0.000000  \n",
      "25%         0.000000  \n",
      "50%         0.000000  \n",
      "75%         0.000000  \n",
      "max         1.000000  \n",
      "\n",
      "[8 rows x 137 columns]\n",
      "<class 'pandas.core.frame.DataFrame'>\n",
      "RangeIndex: 175347 entries, 0 to 175346\n",
      "Columns: 137 entries, user to state_59\n",
      "dtypes: float64(1), int64(2), uint8(134)\n",
      "memory usage: 26.4 MB\n",
      "None\n"
     ]
    }
   ],
   "source": [
    "print(df.describe())\n",
    "print(df.info())"
   ]
  },
  {
   "cell_type": "code",
   "execution_count": 34,
   "metadata": {},
   "outputs": [
    {
     "name": "stdout",
     "output_type": "stream",
     "text": [
      "14\n",
      "219\n"
     ]
    }
   ],
   "source": [
    "dfraw = pd.read_csv('course_ratings.csv')\n",
    "print(dfraw['category'].nunique())\n",
    "print(dfraw['course'].nunique())"
   ]
  },
  {
   "cell_type": "code",
   "execution_count": null,
   "metadata": {},
   "outputs": [],
   "source": []
  }
 ],
 "metadata": {
  "kernelspec": {
   "display_name": "Python 3",
   "language": "python",
   "name": "python3"
  },
  "language_info": {
   "codemirror_mode": {
    "name": "ipython",
    "version": 3
   },
   "file_extension": ".py",
   "mimetype": "text/x-python",
   "name": "python",
   "nbconvert_exporter": "python",
   "pygments_lexer": "ipython3",
   "version": "3.6.5"
  }
 },
 "nbformat": 4,
 "nbformat_minor": 1
}
