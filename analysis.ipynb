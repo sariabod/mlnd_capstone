{
 "cells": [
  {
   "cell_type": "code",
   "execution_count": 1,
   "metadata": {},
   "outputs": [],
   "source": [
    "import numpy as np\n",
    "import pandas as pd\n",
    "import matplotlib.pyplot as plt\n",
    "\n",
    "\n",
    "from fastai.structured import *\n",
    "from fastai.column_data import *"
   ]
  },
  {
   "cell_type": "code",
   "execution_count": 2,
   "metadata": {},
   "outputs": [],
   "source": [
    "# lets load up the data, keep in mind the the unzipped version is not in the repo\n",
    "df = pd.read_csv('course_ratings.csv')"
   ]
  },
  {
   "cell_type": "code",
   "execution_count": 3,
   "metadata": {},
   "outputs": [
    {
     "name": "stdout",
     "output_type": "stream",
     "text": [
      "<class 'pandas.core.frame.DataFrame'>\n",
      "RangeIndex: 175347 entries, 0 to 175346\n",
      "Data columns (total 7 columns):\n",
      "user           175347 non-null object\n",
      "course         175347 non-null object\n",
      "category       175347 non-null object\n",
      "rating         175347 non-null float64\n",
      "job            175347 non-null object\n",
      "institution    175347 non-null object\n",
      "state          175347 non-null object\n",
      "dtypes: float64(1), object(6)\n",
      "memory usage: 9.4+ MB\n"
     ]
    }
   ],
   "source": [
    "df.info()"
   ]
  },
  {
   "cell_type": "code",
   "execution_count": 4,
   "metadata": {},
   "outputs": [
    {
     "data": {
      "text/plain": [
       "Index(['user', 'course', 'category', 'rating', 'job', 'institution', 'state'], dtype='object')"
      ]
     },
     "execution_count": 4,
     "metadata": {},
     "output_type": "execute_result"
    }
   ],
   "source": [
    "df.columns"
   ]
  },
  {
   "cell_type": "code",
   "execution_count": 5,
   "metadata": {},
   "outputs": [
    {
     "data": {
      "text/html": [
       "<div>\n",
       "<style scoped>\n",
       "    .dataframe tbody tr th:only-of-type {\n",
       "        vertical-align: middle;\n",
       "    }\n",
       "\n",
       "    .dataframe tbody tr th {\n",
       "        vertical-align: top;\n",
       "    }\n",
       "\n",
       "    .dataframe thead th {\n",
       "        text-align: right;\n",
       "    }\n",
       "</style>\n",
       "<table border=\"1\" class=\"dataframe\">\n",
       "  <thead>\n",
       "    <tr style=\"text-align: right;\">\n",
       "      <th></th>\n",
       "      <th>rating</th>\n",
       "    </tr>\n",
       "  </thead>\n",
       "  <tbody>\n",
       "    <tr>\n",
       "      <th>count</th>\n",
       "      <td>175347.000000</td>\n",
       "    </tr>\n",
       "    <tr>\n",
       "      <th>mean</th>\n",
       "      <td>4.030533</td>\n",
       "    </tr>\n",
       "    <tr>\n",
       "      <th>std</th>\n",
       "      <td>0.571618</td>\n",
       "    </tr>\n",
       "    <tr>\n",
       "      <th>min</th>\n",
       "      <td>0.910000</td>\n",
       "    </tr>\n",
       "    <tr>\n",
       "      <th>25%</th>\n",
       "      <td>3.690000</td>\n",
       "    </tr>\n",
       "    <tr>\n",
       "      <th>50%</th>\n",
       "      <td>4.000000</td>\n",
       "    </tr>\n",
       "    <tr>\n",
       "      <th>75%</th>\n",
       "      <td>4.590000</td>\n",
       "    </tr>\n",
       "    <tr>\n",
       "      <th>max</th>\n",
       "      <td>12.450000</td>\n",
       "    </tr>\n",
       "  </tbody>\n",
       "</table>\n",
       "</div>"
      ],
      "text/plain": [
       "              rating\n",
       "count  175347.000000\n",
       "mean        4.030533\n",
       "std         0.571618\n",
       "min         0.910000\n",
       "25%         3.690000\n",
       "50%         4.000000\n",
       "75%         4.590000\n",
       "max        12.450000"
      ]
     },
     "execution_count": 5,
     "metadata": {},
     "output_type": "execute_result"
    }
   ],
   "source": [
    "df.describe()"
   ]
  },
  {
   "cell_type": "code",
   "execution_count": 6,
   "metadata": {},
   "outputs": [
    {
     "data": {
      "text/plain": [
       "(array([  435.,    83.,    35.,    66.,   159.,   204.,   341.,  1311.,  7622.,  3366.,  6484., 15929.,\n",
       "        43538., 17267., 17940., 22904., 35465.,  2194.,     0.,     1.,     0.,     0.,     0.,     0.,\n",
       "            0.,     1.,     0.,     0.,     0.,     0.,     0.,     0.,     1.,     0.,     0.,     0.,\n",
       "            0.,     0.,     0.,     0.,     0.,     0.,     0.,     0.,     0.,     0.,     0.,     0.,\n",
       "            0.,     1.]),\n",
       " array([ 0.91  ,  1.1408,  1.3716,  1.6024,  1.8332,  2.064 ,  2.2948,  2.5256,  2.7564,  2.9872,  3.218 ,\n",
       "         3.4488,  3.6796,  3.9104,  4.1412,  4.372 ,  4.6028,  4.8336,  5.0644,  5.2952,  5.526 ,  5.7568,\n",
       "         5.9876,  6.2184,  6.4492,  6.68  ,  6.9108,  7.1416,  7.3724,  7.6032,  7.834 ,  8.0648,  8.2956,\n",
       "         8.5264,  8.7572,  8.988 ,  9.2188,  9.4496,  9.6804,  9.9112, 10.142 , 10.3728, 10.6036, 10.8344,\n",
       "        11.0652, 11.296 , 11.5268, 11.7576, 11.9884, 12.2192, 12.45  ]),\n",
       " <a list of 50 Patch objects>)"
      ]
     },
     "execution_count": 6,
     "metadata": {},
     "output_type": "execute_result"
    },
    {
     "data": {
      "image/png": "[encoded data removed]",
      "text/plain": [
       "<Figure size 432x288 with 1 Axes>"
      ]
     },
     "metadata": {},
     "output_type": "display_data"
    }
   ],
   "source": [
    "plt.xlabel(\"Rating\")\n",
    "plt.ylabel(\"Rating Count\")\n",
    "plt.hist(df['rating'], bins=50)"
   ]
  },
  {
   "cell_type": "code",
   "execution_count": 7,
   "metadata": {},
   "outputs": [
    {
     "name": "stdout",
     "output_type": "stream",
     "text": [
      "Mean: 4.03053282919012 - Median: 4.0\n"
     ]
    }
   ],
   "source": [
    "print(\"Mean: {} - Median: {}\".format(df['rating'].mean(),df['rating'].median()))"
   ]
  },
  {
   "cell_type": "code",
   "execution_count": 8,
   "metadata": {},
   "outputs": [
    {
     "data": {
      "text/plain": [
       "user           52118\n",
       "course           219\n",
       "category          14\n",
       "rating           270\n",
       "job               45\n",
       "institution       15\n",
       "state             60\n",
       "dtype: int64"
      ]
     },
     "execution_count": 8,
     "metadata": {},
     "output_type": "execute_result"
    }
   ],
   "source": [
    "df.nunique()"
   ]
  },
  {
   "cell_type": "code",
   "execution_count": 9,
   "metadata": {},
   "outputs": [],
   "source": [
    "cat_vars = ['user','course','category','job','institution','state']\n",
    "dep = 'rating'"
   ]
  },
  {
   "cell_type": "code",
   "execution_count": 10,
   "metadata": {},
   "outputs": [],
   "source": [
    "joined = df.copy()"
   ]
  },
  {
   "cell_type": "code",
   "execution_count": 11,
   "metadata": {},
   "outputs": [],
   "source": [
    "joined = joined[cat_vars+[dep]].copy()"
   ]
  },
  {
   "cell_type": "code",
   "execution_count": 12,
   "metadata": {},
   "outputs": [
    {
     "name": "stdout",
     "output_type": "stream",
     "text": [
      "<class 'pandas.core.frame.DataFrame'>\n",
      "RangeIndex: 175347 entries, 0 to 175346\n",
      "Data columns (total 7 columns):\n",
      "user           175347 non-null object\n",
      "course         175347 non-null object\n",
      "category       175347 non-null object\n",
      "job            175347 non-null object\n",
      "institution    175347 non-null object\n",
      "state          175347 non-null object\n",
      "rating         175347 non-null float64\n",
      "dtypes: float64(1), object(6)\n",
      "memory usage: 9.4+ MB\n"
     ]
    }
   ],
   "source": [
    "joined.info()"
   ]
  },
  {
   "cell_type": "code",
   "execution_count": 13,
   "metadata": {},
   "outputs": [],
   "source": [
    "for v in cat_vars: joined[v] = joined[v].astype('category').cat.as_ordered()\n"
   ]
  },
  {
   "cell_type": "code",
   "execution_count": 14,
   "metadata": {},
   "outputs": [
    {
     "name": "stdout",
     "output_type": "stream",
     "text": [
      "<class 'pandas.core.frame.DataFrame'>\n",
      "RangeIndex: 175347 entries, 0 to 175346\n",
      "Data columns (total 7 columns):\n",
      "user           175347 non-null category\n",
      "course         175347 non-null category\n",
      "category       175347 non-null category\n",
      "job            175347 non-null category\n",
      "institution    175347 non-null category\n",
      "state          175347 non-null category\n",
      "rating         175347 non-null float64\n",
      "dtypes: category(6), float64(1)\n",
      "memory usage: 5.9 MB\n"
     ]
    }
   ],
   "source": [
    "joined.info()"
   ]
  },
  {
   "cell_type": "code",
   "execution_count": 17,
   "metadata": {},
   "outputs": [
    {
     "data": {
      "text/plain": [
       "175347"
      ]
     },
     "execution_count": 17,
     "metadata": {},
     "output_type": "execute_result"
    }
   ],
   "source": [
    "n = len(joined); n"
   ]
  },
  {
   "cell_type": "code",
   "execution_count": 18,
   "metadata": {},
   "outputs": [],
   "source": [
    "idxs = get_cv_idxs(n, val_pct=150000/n)"
   ]
  },
  {
   "cell_type": "code",
   "execution_count": 19,
   "metadata": {},
   "outputs": [
    {
     "data": {
      "text/plain": [
       "array([153607,  86137, 166499, ..., 106568,  18665, 137159])"
      ]
     },
     "execution_count": 19,
     "metadata": {},
     "output_type": "execute_result"
    }
   ],
   "source": [
    "idxs"
   ]
  },
  {
   "cell_type": "code",
   "execution_count": null,
   "metadata": {},
   "outputs": [],
   "source": []
  }
 ],
 "metadata": {
  "kernelspec": {
   "display_name": "Python 3",
   "language": "python",
   "name": "python3"
  },
  "language_info": {
   "codemirror_mode": {
    "name": "ipython",
    "version": 3
   },
   "file_extension": ".py",
   "mimetype": "text/x-python",
   "name": "python",
   "nbconvert_exporter": "python",
   "pygments_lexer": "ipython3",
   "version": "3.6.5"
  }
 },
 "nbformat": 4,
 "nbformat_minor": 1
}
